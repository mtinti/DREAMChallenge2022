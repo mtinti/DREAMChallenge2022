{
 "cells": [
  {
   "cell_type": "code",
   "execution_count": 1,
   "id": "2310db84",
   "metadata": {
    "execution": {
     "iopub.execute_input": "2022-07-26T20:05:39.114051Z",
     "iopub.status.busy": "2022-07-26T20:05:39.113877Z",
     "iopub.status.idle": "2022-07-26T20:05:39.117306Z",
     "shell.execute_reply": "2022-07-26T20:05:39.117010Z"
    },
    "id": "b5b7fa3d"
   },
   "outputs": [],
   "source": [
    "#print(1)"
   ]
  },
  {
   "cell_type": "code",
   "execution_count": 2,
   "id": "f5feca77",
   "metadata": {
    "execution": {
     "iopub.execute_input": "2022-07-26T20:05:39.119032Z",
     "iopub.status.busy": "2022-07-26T20:05:39.118904Z",
     "iopub.status.idle": "2022-07-26T20:05:39.135007Z",
     "shell.execute_reply": "2022-07-26T20:05:39.134709Z"
    },
    "id": "2-1zeh_R06W9"
   },
   "outputs": [],
   "source": [
    "#%%capture\n",
    "#!pip install biopython\n",
    "#!pip install tensorflow-addons\n",
    "#!pip install tensorflow"
   ]
  },
  {
   "cell_type": "code",
   "execution_count": 3,
   "id": "9c4d02b9",
   "metadata": {
    "execution": {
     "iopub.execute_input": "2022-07-26T20:05:39.136963Z",
     "iopub.status.busy": "2022-07-26T20:05:39.136829Z",
     "iopub.status.idle": "2022-07-26T20:05:45.195487Z",
     "shell.execute_reply": "2022-07-26T20:05:45.194180Z"
    },
    "id": "YjE_wrIt04xe"
   },
   "outputs": [],
   "source": [
    "import pandas as pd\n",
    "import Bio\n",
    "from Bio.Seq import Seq\n",
    "import numpy as np\n",
    "from tqdm import tqdm\n",
    "from sklearn.model_selection import train_test_split\n",
    "import matplotlib.pyplot as plt\n",
    "import pandas as pd\n",
    "import numpy as np\n",
    "from tqdm import tqdm\n",
    "from sklearn.model_selection import train_test_split\n",
    "import tensorflow.keras.layers as L\n",
    "import keras.backend as K\n",
    "import tensorflow as tf\n",
    "from sklearn.model_selection import StratifiedKFold, KFold, GroupKFold\n",
    "from sklearn.cluster import KMeans\n",
    "from Bio import SeqIO\n",
    "from Bio.Seq import Seq\n",
    "from joblib import Parallel, delayed\n",
    "import os\n",
    "import gc\n",
    "import random\n",
    "from tensorflow.keras.callbacks import TerminateOnNaN\n",
    "from tensorflow import keras\n",
    "from tensorflow.keras import layers\n",
    "import tensorflow_addons\n",
    "import tensorflow_addons as tfa\n",
    "from tensorflow.keras.callbacks import Callback"
   ]
  },
  {
   "cell_type": "code",
   "execution_count": 4,
   "id": "ffc4399b",
   "metadata": {
    "colab": {
     "base_uri": "https://localhost:8080/"
    },
    "execution": {
     "iopub.execute_input": "2022-07-26T20:05:45.199287Z",
     "iopub.status.busy": "2022-07-26T20:05:45.198978Z",
     "iopub.status.idle": "2022-07-26T20:05:45.206131Z",
     "shell.execute_reply": "2022-07-26T20:05:45.205642Z"
    },
    "id": "672b6894",
    "outputId": "01a61119-3e6f-4196-b155-15cccca218ac"
   },
   "outputs": [
    {
     "data": {
      "text/plain": [
       "128"
      ]
     },
     "execution_count": 4,
     "metadata": {},
     "output_type": "execute_result"
    }
   ],
   "source": [
    "import multiprocessing\n",
    "multiprocessing.cpu_count()"
   ]
  },
  {
   "cell_type": "code",
   "execution_count": 5,
   "id": "2ae811e1",
   "metadata": {
    "execution": {
     "iopub.execute_input": "2022-07-26T20:05:45.208603Z",
     "iopub.status.busy": "2022-07-26T20:05:45.208054Z",
     "iopub.status.idle": "2022-07-26T20:05:45.222729Z",
     "shell.execute_reply": "2022-07-26T20:05:45.222181Z"
    },
    "id": "dtrZsneQLu9y"
   },
   "outputs": [],
   "source": [
    "def set_seeds(seed):\n",
    "    os.environ['PYTHONHASHSEED'] = '0'\n",
    "    random.seed(seed)\n",
    "    tf.random.set_seed(seed)\n",
    "    np.random.seed(seed)\n",
    "\n",
    "def set_global_determinism(seed):\n",
    "    set_seeds(seed=seed)\n",
    "\n",
    "    os.environ['TF_DETERMINISTIC_OPS'] = '1'\n",
    "    #os.environ['TF_CUDNN_DETERMINISTIC'] = '1'\n",
    "    \n",
    "    #tf.config.threading.set_inter_op_parallelism_threads(1)\n",
    "    #tf.config.threading.set_intra_op_parallelism_threads(1)\n",
    "\n",
    "# Call the above function with seed value\n",
    "set_seeds(seed=42)\n",
    "set_global_determinism(seed=42)"
   ]
  },
  {
   "cell_type": "code",
   "execution_count": null,
   "id": "89a398ef",
   "metadata": {},
   "outputs": [],
   "source": []
  },
  {
   "cell_type": "code",
   "execution_count": 6,
   "id": "c700d7b3",
   "metadata": {
    "execution": {
     "iopub.execute_input": "2022-07-26T20:05:45.226069Z",
     "iopub.status.busy": "2022-07-26T20:05:45.225848Z",
     "iopub.status.idle": "2022-07-26T20:05:45.238647Z",
     "shell.execute_reply": "2022-07-26T20:05:45.238170Z"
    }
   },
   "outputs": [],
   "source": [
    "num_threads = 2\n",
    "# Maximum number of threads to use for OpenMP parallel regions.\n",
    "os.environ[\"OMP_NUM_THREADS\"] = str(num_threads)\n",
    "# Without setting below 2 environment variables, it didn't work for me. Thanks to @cjw85 \n",
    "os.environ[\"TF_NUM_INTRAOP_THREADS\"] = str(num_threads)\n",
    "os.environ[\"TF_NUM_INTEROP_THREADS\"] = str(num_threads)\n",
    "\n",
    "tf.config.threading.set_inter_op_parallelism_threads(\n",
    "    num_threads\n",
    ")\n",
    "tf.config.threading.set_intra_op_parallelism_threads(\n",
    "    num_threads\n",
    ")\n",
    "tf.config.set_soft_device_placement(True)"
   ]
  },
  {
   "cell_type": "code",
   "execution_count": 10,
   "id": "a12668a4",
   "metadata": {
    "execution": {
     "iopub.execute_input": "2022-07-26T20:05:46.045767Z",
     "iopub.status.busy": "2022-07-26T20:05:46.045625Z",
     "iopub.status.idle": "2022-07-26T20:05:46.049378Z",
     "shell.execute_reply": "2022-07-26T20:05:46.048854Z"
    }
   },
   "outputs": [],
   "source": [
    "from sklearn.preprocessing import MinMaxScaler\n",
    "scaler = MinMaxScaler(feature_range=(0.001, 0.999))"
   ]
  },
  {
   "cell_type": "code",
   "execution_count": 11,
   "id": "8f76d671",
   "metadata": {
    "colab": {
     "base_uri": "https://localhost:8080/",
     "height": 225
    },
    "execution": {
     "iopub.execute_input": "2022-07-26T20:05:46.051712Z",
     "iopub.status.busy": "2022-07-26T20:05:46.051247Z",
     "iopub.status.idle": "2022-07-26T20:05:58.422498Z",
     "shell.execute_reply": "2022-07-26T20:05:58.421674Z"
    },
    "id": "77e308c4",
    "outputId": "edec5cc4-4922-422d-ada0-dba5cb230592"
   },
   "outputs": [
    {
     "name": "stdout",
     "output_type": "stream",
     "text": [
      "(6739258, 2)\n"
     ]
    },
    {
     "data": {
      "text/html": [
       "<div>\n",
       "<style scoped>\n",
       "    .dataframe tbody tr th:only-of-type {\n",
       "        vertical-align: middle;\n",
       "    }\n",
       "\n",
       "    .dataframe tbody tr th {\n",
       "        vertical-align: top;\n",
       "    }\n",
       "\n",
       "    .dataframe thead th {\n",
       "        text-align: right;\n",
       "    }\n",
       "</style>\n",
       "<table border=\"1\" class=\"dataframe\">\n",
       "  <thead>\n",
       "    <tr style=\"text-align: right;\">\n",
       "      <th></th>\n",
       "      <th>seq</th>\n",
       "      <th>target</th>\n",
       "    </tr>\n",
       "  </thead>\n",
       "  <tbody>\n",
       "    <tr>\n",
       "      <th>0</th>\n",
       "      <td>TGCATTTTTTTCACATCTCTTTGCCACGGGGTGAAGGATAGGATGG...</td>\n",
       "      <td>0.646765</td>\n",
       "    </tr>\n",
       "    <tr>\n",
       "      <th>1</th>\n",
       "      <td>TGCATTTTTTTCACATCTATGTTGCGTTAGAACGATATTGGAACAC...</td>\n",
       "      <td>0.353235</td>\n",
       "    </tr>\n",
       "    <tr>\n",
       "      <th>2</th>\n",
       "      <td>TGCATTTTTTTCACATCTGTGAAGAATATCAGCTTTCAATCGTATT...</td>\n",
       "      <td>0.470647</td>\n",
       "    </tr>\n",
       "    <tr>\n",
       "      <th>3</th>\n",
       "      <td>TGCATTTTTTTCACATCAATCCGAGATATCTGTTGATAAACTTACC...</td>\n",
       "      <td>0.529353</td>\n",
       "    </tr>\n",
       "    <tr>\n",
       "      <th>4</th>\n",
       "      <td>TGCATTTTTTTCACATCAAGTTATCTGGTGTACGTTTTCTCGTATA...</td>\n",
       "      <td>0.705471</td>\n",
       "    </tr>\n",
       "  </tbody>\n",
       "</table>\n",
       "</div>"
      ],
      "text/plain": [
       "                                                 seq    target\n",
       "0  TGCATTTTTTTCACATCTCTTTGCCACGGGGTGAAGGATAGGATGG...  0.646765\n",
       "1  TGCATTTTTTTCACATCTATGTTGCGTTAGAACGATATTGGAACAC...  0.353235\n",
       "2  TGCATTTTTTTCACATCTGTGAAGAATATCAGCTTTCAATCGTATT...  0.470647\n",
       "3  TGCATTTTTTTCACATCAATCCGAGATATCTGTTGATAAACTTACC...  0.529353\n",
       "4  TGCATTTTTTTCACATCAAGTTATCTGGTGTACGTTTTCTCGTATA...  0.705471"
      ]
     },
     "execution_count": 11,
     "metadata": {},
     "output_type": "execute_result"
    }
   ],
   "source": [
    "#get some stats for the train set and transform y\n",
    "train = pd.read_csv('train_sequences.txt',header=None,sep='\\t')\n",
    "train.columns = ['seq','target']\n",
    "scaler.fit(train[['target']])\n",
    "\n",
    "print(train.shape)\n",
    "#train=train[train.seq.str.len()==110]\n",
    "max_seq_len = train.seq.str.len().max()\n",
    "target_mean = train.target.mean()\n",
    "target_std = train.target.std()\n",
    "\n",
    "train['target']=scaler.transform(train[['target']])\n",
    "train.head()"
   ]
  },
  {
   "cell_type": "code",
   "execution_count": 13,
   "id": "ddc28e1d",
   "metadata": {
    "colab": {
     "base_uri": "https://localhost:8080/",
     "height": 225
    },
    "execution": {
     "iopub.execute_input": "2022-07-26T20:05:58.431156Z",
     "iopub.status.busy": "2022-07-26T20:05:58.430771Z",
     "iopub.status.idle": "2022-07-26T20:05:58.848037Z",
     "shell.execute_reply": "2022-07-26T20:05:58.847504Z"
    },
    "id": "L9stm5ZA6OVe",
    "outputId": "b730ddb5-6a8b-4f17-ef04-45924762e90b"
   },
   "outputs": [
    {
     "name": "stdout",
     "output_type": "stream",
     "text": [
      "(10000, 2)\n"
     ]
    },
    {
     "data": {
      "text/html": [
       "<div>\n",
       "<style scoped>\n",
       "    .dataframe tbody tr th:only-of-type {\n",
       "        vertical-align: middle;\n",
       "    }\n",
       "\n",
       "    .dataframe tbody tr th {\n",
       "        vertical-align: top;\n",
       "    }\n",
       "\n",
       "    .dataframe thead th {\n",
       "        text-align: right;\n",
       "    }\n",
       "</style>\n",
       "<table border=\"1\" class=\"dataframe\">\n",
       "  <thead>\n",
       "    <tr style=\"text-align: right;\">\n",
       "      <th></th>\n",
       "      <th>seq</th>\n",
       "      <th>target</th>\n",
       "    </tr>\n",
       "  </thead>\n",
       "  <tbody>\n",
       "    <tr>\n",
       "      <th>0</th>\n",
       "      <td>TGCATTTTTTTCACATCCGTGACTTTGTCAGTCCCGTGTGCCGCAG...</td>\n",
       "      <td>0.869883</td>\n",
       "    </tr>\n",
       "    <tr>\n",
       "      <th>1</th>\n",
       "      <td>TGCATTTTTTTCACATCGTTATTGGGCGAGGTGAGGCATCCATTGT...</td>\n",
       "      <td>0.764176</td>\n",
       "    </tr>\n",
       "    <tr>\n",
       "      <th>2</th>\n",
       "      <td>TGCATTTTTTTCACATCTACCCTGCTTATTATCCTCTAGAATTAGA...</td>\n",
       "      <td>0.529353</td>\n",
       "    </tr>\n",
       "    <tr>\n",
       "      <th>3</th>\n",
       "      <td>TGCATTTTTTTCACATCATATTGTGTAGTCACATCGCAATAGGTTT...</td>\n",
       "      <td>0.129245</td>\n",
       "    </tr>\n",
       "    <tr>\n",
       "      <th>4</th>\n",
       "      <td>TGCATTTTTTTCACATCCTTATCTGTAGAGATAAGTTATCGTCGCT...</td>\n",
       "      <td>0.705471</td>\n",
       "    </tr>\n",
       "  </tbody>\n",
       "</table>\n",
       "</div>"
      ],
      "text/plain": [
       "                                                 seq    target\n",
       "0  TGCATTTTTTTCACATCCGTGACTTTGTCAGTCCCGTGTGCCGCAG...  0.869883\n",
       "1  TGCATTTTTTTCACATCGTTATTGGGCGAGGTGAGGCATCCATTGT...  0.764176\n",
       "2  TGCATTTTTTTCACATCTACCCTGCTTATTATCCTCTAGAATTAGA...  0.529353\n",
       "3  TGCATTTTTTTCACATCATATTGTGTAGTCACATCGCAATAGGTTT...  0.129245\n",
       "4  TGCATTTTTTTCACATCCTTATCTGTAGAGATAAGTTATCGTCGCT...  0.705471"
      ]
     },
     "execution_count": 13,
     "metadata": {},
     "output_type": "execute_result"
    }
   ],
   "source": [
    "#set apart 10000 promoters for test set\n",
    "X_test = train.sample(n=10000, random_state=42)\n",
    "X_test=X_test.reset_index(drop=True)\n",
    "print(X_test.shape)\n",
    "X_test.head()"
   ]
  },
  {
   "cell_type": "code",
   "execution_count": 14,
   "id": "2e85de8d",
   "metadata": {
    "colab": {
     "base_uri": "https://localhost:8080/",
     "height": 243
    },
    "execution": {
     "iopub.execute_input": "2022-07-26T20:05:58.850189Z",
     "iopub.status.busy": "2022-07-26T20:05:58.850061Z",
     "iopub.status.idle": "2022-07-26T20:05:59.446331Z",
     "shell.execute_reply": "2022-07-26T20:05:59.445717Z"
    },
    "id": "JcBTnTz26rNb",
    "outputId": "b1785075-3c1e-406f-ee97-771a49e78ca0"
   },
   "outputs": [
    {
     "name": "stdout",
     "output_type": "stream",
     "text": [
      "(6739258, 2)\n",
      "(6729258, 2)\n"
     ]
    },
    {
     "data": {
      "text/html": [
       "<div>\n",
       "<style scoped>\n",
       "    .dataframe tbody tr th:only-of-type {\n",
       "        vertical-align: middle;\n",
       "    }\n",
       "\n",
       "    .dataframe tbody tr th {\n",
       "        vertical-align: top;\n",
       "    }\n",
       "\n",
       "    .dataframe thead th {\n",
       "        text-align: right;\n",
       "    }\n",
       "</style>\n",
       "<table border=\"1\" class=\"dataframe\">\n",
       "  <thead>\n",
       "    <tr style=\"text-align: right;\">\n",
       "      <th></th>\n",
       "      <th>seq</th>\n",
       "      <th>target</th>\n",
       "    </tr>\n",
       "  </thead>\n",
       "  <tbody>\n",
       "    <tr>\n",
       "      <th>0</th>\n",
       "      <td>TGCATTTTTTTCACATCTTTCTTTACAGGGAAGTTTGGTTTTTGAA...</td>\n",
       "      <td>0.822882</td>\n",
       "    </tr>\n",
       "    <tr>\n",
       "      <th>1</th>\n",
       "      <td>TGCATTTTTTTCACATCAGGTCCAGCTAGATTAGAAATGTTGTTCT...</td>\n",
       "      <td>0.646765</td>\n",
       "    </tr>\n",
       "    <tr>\n",
       "      <th>2</th>\n",
       "      <td>TGCATTTTTTTCACATCTCTCTTATGTATAAAGACTCGATGATTAG...</td>\n",
       "      <td>0.588059</td>\n",
       "    </tr>\n",
       "    <tr>\n",
       "      <th>3</th>\n",
       "      <td>TGCATTTTTTTCACATCGTCTAGGCTTATTTTCTTGAGTCTATTTG...</td>\n",
       "      <td>0.776059</td>\n",
       "    </tr>\n",
       "    <tr>\n",
       "      <th>4</th>\n",
       "      <td>TGCATTTTTTTCACATCTGGTCAAGCTTCCGATGTCAAATTTTGTG...</td>\n",
       "      <td>0.646765</td>\n",
       "    </tr>\n",
       "  </tbody>\n",
       "</table>\n",
       "</div>"
      ],
      "text/plain": [
       "                                                 seq    target\n",
       "0  TGCATTTTTTTCACATCTTTCTTTACAGGGAAGTTTGGTTTTTGAA...  0.822882\n",
       "1  TGCATTTTTTTCACATCAGGTCCAGCTAGATTAGAAATGTTGTTCT...  0.646765\n",
       "2  TGCATTTTTTTCACATCTCTCTTATGTATAAAGACTCGATGATTAG...  0.588059\n",
       "3  TGCATTTTTTTCACATCGTCTAGGCTTATTTTCTTGAGTCTATTTG...  0.776059\n",
       "4  TGCATTTTTTTCACATCTGGTCAAGCTTCCGATGTCAAATTTTGTG...  0.646765"
      ]
     },
     "execution_count": 14,
     "metadata": {},
     "output_type": "execute_result"
    }
   ],
   "source": [
    "#remove from train set the test set\n",
    "print(train.shape)\n",
    "train = train[~train.index.isin(X_test.index)]\n",
    "train=train.reset_index(drop=True)\n",
    "print(train.shape)\n",
    "train.head()"
   ]
  },
  {
   "cell_type": "code",
   "execution_count": 15,
   "id": "d4770600",
   "metadata": {
    "colab": {
     "base_uri": "https://localhost:8080/",
     "height": 206
    },
    "execution": {
     "iopub.execute_input": "2022-07-26T20:05:59.448711Z",
     "iopub.status.busy": "2022-07-26T20:05:59.448482Z",
     "iopub.status.idle": "2022-07-26T20:05:59.548270Z",
     "shell.execute_reply": "2022-07-26T20:05:59.547714Z"
    },
    "id": "5c8db578",
    "outputId": "953dabc7-de62-41fb-e8fe-73d0f5ba5a95"
   },
   "outputs": [
    {
     "data": {
      "text/html": [
       "<div>\n",
       "<style scoped>\n",
       "    .dataframe tbody tr th:only-of-type {\n",
       "        vertical-align: middle;\n",
       "    }\n",
       "\n",
       "    .dataframe tbody tr th {\n",
       "        vertical-align: top;\n",
       "    }\n",
       "\n",
       "    .dataframe thead th {\n",
       "        text-align: right;\n",
       "    }\n",
       "</style>\n",
       "<table border=\"1\" class=\"dataframe\">\n",
       "  <thead>\n",
       "    <tr style=\"text-align: right;\">\n",
       "      <th></th>\n",
       "      <th>seq</th>\n",
       "      <th>target</th>\n",
       "    </tr>\n",
       "  </thead>\n",
       "  <tbody>\n",
       "    <tr>\n",
       "      <th>0</th>\n",
       "      <td>TGCATTTTTTTCACATCAAAAAAAAAAAAAAAAAAAAAAACTAGCA...</td>\n",
       "      <td>NaN</td>\n",
       "    </tr>\n",
       "    <tr>\n",
       "      <th>1</th>\n",
       "      <td>TGCATTTTTTTCACATCAAAAAAAAAAAAAAAAAAAGAAAACGAGC...</td>\n",
       "      <td>NaN</td>\n",
       "    </tr>\n",
       "    <tr>\n",
       "      <th>2</th>\n",
       "      <td>TGCATTTTTTTCACATCAAAAAAAAAAAAAAAAAAAGAAAACGAGC...</td>\n",
       "      <td>NaN</td>\n",
       "    </tr>\n",
       "    <tr>\n",
       "      <th>3</th>\n",
       "      <td>TGCATTTTTTTCACATCAAAAAAAAAAAAAAAAAAAGAAAACGAGC...</td>\n",
       "      <td>NaN</td>\n",
       "    </tr>\n",
       "    <tr>\n",
       "      <th>4</th>\n",
       "      <td>TGCATTTTTTTCACATCAAAAAAAAAAAAAAAAAAAGAAAACGAGC...</td>\n",
       "      <td>NaN</td>\n",
       "    </tr>\n",
       "  </tbody>\n",
       "</table>\n",
       "</div>"
      ],
      "text/plain": [
       "                                                 seq  target\n",
       "0  TGCATTTTTTTCACATCAAAAAAAAAAAAAAAAAAAAAAACTAGCA...     NaN\n",
       "1  TGCATTTTTTTCACATCAAAAAAAAAAAAAAAAAAAGAAAACGAGC...     NaN\n",
       "2  TGCATTTTTTTCACATCAAAAAAAAAAAAAAAAAAAGAAAACGAGC...     NaN\n",
       "3  TGCATTTTTTTCACATCAAAAAAAAAAAAAAAAAAAGAAAACGAGC...     NaN\n",
       "4  TGCATTTTTTTCACATCAAAAAAAAAAAAAAAAAAAGAAAACGAGC...     NaN"
      ]
     },
     "execution_count": 15,
     "metadata": {},
     "output_type": "execute_result"
    }
   ],
   "source": [
    "#prepare the sequences to predict\n",
    "X_predict = pd.read_csv('test_sequences.txt',header=None,sep='\\t')\n",
    "X_predict.columns = ['seq','target']\n",
    "X_predict.head()"
   ]
  },
  {
   "cell_type": "code",
   "execution_count": null,
   "id": "25ef1c1e",
   "metadata": {
    "id": "c5OeqCbO58gd"
   },
   "outputs": [],
   "source": []
  },
  {
   "cell_type": "code",
   "execution_count": 17,
   "id": "362e945b",
   "metadata": {
    "execution": {
     "iopub.execute_input": "2022-07-26T20:05:59.555953Z",
     "iopub.status.busy": "2022-07-26T20:05:59.555499Z",
     "iopub.status.idle": "2022-07-26T20:05:59.566552Z",
     "shell.execute_reply": "2022-07-26T20:05:59.566076Z"
    },
    "id": "eFVKnNxEHC7a"
   },
   "outputs": [],
   "source": [
    "#this assigment is not necessary but here for hystorical reasons....\n",
    "X_train = train\n",
    "y_train = train['target']"
   ]
  },
  {
   "cell_type": "code",
   "execution_count": 18,
   "id": "8f165f12",
   "metadata": {
    "colab": {
     "base_uri": "https://localhost:8080/"
    },
    "execution": {
     "iopub.execute_input": "2022-07-26T20:05:59.569687Z",
     "iopub.status.busy": "2022-07-26T20:05:59.569471Z",
     "iopub.status.idle": "2022-07-26T20:05:59.581299Z",
     "shell.execute_reply": "2022-07-26T20:05:59.580837Z"
    },
    "id": "e850b5a3",
    "outputId": "cc233766-87a7-41ef-a165-2ff5801233cd"
   },
   "outputs": [
    {
     "data": {
      "text/plain": [
       "((6729258, 2), (10000, 2))"
      ]
     },
     "execution_count": 18,
     "metadata": {},
     "output_type": "execute_result"
    }
   ],
   "source": [
    "X_train.shape,X_test.shape"
   ]
  },
  {
   "cell_type": "code",
   "execution_count": 19,
   "id": "b2233469",
   "metadata": {
    "colab": {
     "base_uri": "https://localhost:8080/",
     "height": 283
    },
    "execution": {
     "iopub.execute_input": "2022-07-26T20:05:59.583490Z",
     "iopub.status.busy": "2022-07-26T20:05:59.583084Z",
     "iopub.status.idle": "2022-07-26T20:06:00.433948Z",
     "shell.execute_reply": "2022-07-26T20:06:00.433385Z"
    },
    "id": "e32dddb6",
    "outputId": "1102b4a3-d151-4b12-8626-5c1ef19ea07f"
   },
   "outputs": [
    {
     "data": {
      "text/plain": [
       "<matplotlib.legend.Legend at 0x2b56102e9960>"
      ]
     },
     "execution_count": 19,
     "metadata": {},
     "output_type": "execute_result"
    },
    {
     "data": {
      "image/png": "[encoded data removed]",
      "text/plain": [
       "<Figure size 576x288 with 1 Axes>"
      ]
     },
     "metadata": {
      "needs_background": "light"
     },
     "output_type": "display_data"
    }
   ],
   "source": [
    "#check distribution of train and test set\n",
    "fig,ax=plt.subplots(figsize=(8,4))\n",
    "X_train['target'].plot(ax=ax,kind='hist',histtype='step',label='train',density=True,bins=50)\n",
    "X_test['target'].plot(ax=ax,kind='hist',histtype='step',label='test',density=True,bins=50)\n",
    "plt.legend()"
   ]
  },
  {
   "cell_type": "code",
   "execution_count": 20,
   "id": "f11659be",
   "metadata": {
    "execution": {
     "iopub.execute_input": "2022-07-26T20:06:00.436423Z",
     "iopub.status.busy": "2022-07-26T20:06:00.436011Z",
     "iopub.status.idle": "2022-07-26T20:06:00.444233Z",
     "shell.execute_reply": "2022-07-26T20:06:00.443770Z"
    },
    "id": "da7de9b5"
   },
   "outputs": [],
   "source": [
    "#tis function adds some padding for the shorter sequences\n",
    "def pad_sequence(X):\n",
    "    pad_length = max_seq_len-len(X)\n",
    "    return X+''.join(['P']*pad_length)\n",
    "\n",
    "#this function makes the complement of a dna sequences\n",
    "def to_complement(X):\n",
    "    dict_complement = {\n",
    "        'A':'T',\n",
    "        'T':'A',\n",
    "        'G':'C',\n",
    "        'C':'G',\n",
    "        'P':'P',\n",
    "        'N':'N',\n",
    "    }\n",
    "    return ''.join([dict_complement[n] for n in X])\n",
    "\n",
    "#one hot encoding of the dna\n",
    "def return_ohe(n, i):\n",
    "    tmp = [0] * n\n",
    "    tmp[i] = 1\n",
    "    return tmp\n",
    "\n",
    "#this function encode train data\n",
    "#it is applaied in batches during training\n",
    "#rather then to the full dataset\n",
    "def get_input(train, random_select='yes'):\n",
    "    #padding to the longest sequence in train\n",
    "    train.loc[:, \"seq\"]=train[\"seq\"].apply(pad_sequence)\n",
    "    #add the reverse-complement strand\n",
    "    train.loc[:, \"rc_seq\"] = train[\"seq\"].apply(to_complement)\n",
    "    ## get node features, which is one hot encoded\n",
    "    #print(train.head())\n",
    "    mapping = {}\n",
    "    vocab = [\"A\", \"G\", \"C\", \"T\", \"N\", \"P\"]\n",
    "    for i, s in enumerate(vocab):\n",
    "        mapping[s] = return_ohe(len(vocab), i)\n",
    "    #print(mapping)\n",
    "    #encoding the forward\n",
    "    X_node = np.stack(train[\"seq\"].apply(lambda x : list(map(lambda y : mapping[y], list(x)))))\n",
    "    #encoding the reverse compleent\n",
    "    X_node_rc = np.stack(train[\"rc_seq\"].apply(lambda x : list(map(lambda y : mapping[y], list(x)))))\n",
    "\n",
    "    #concatenate, forward first\n",
    "    X_node_1 = np.concatenate([X_node, X_node_rc], axis = 2).astype(np.float32) \n",
    "    \n",
    "    #concatenate, reverse complement first\n",
    "    X_node_2 = np.concatenate([X_node_rc, X_node], axis = 2).astype(np.float32)\n",
    "      #print(X_node.shape)\n",
    "\n",
    "    #return randomly forward first or reverse complement first\n",
    "    #this was to experiment different way of training\n",
    "    #final submission uses the forward first\n",
    "    if random_select == 'yes':\n",
    "        select = np.random.choice([0, 1])\n",
    "    else:\n",
    "        select=random_select\n",
    "    \n",
    "    if select == 1:\n",
    "        #return  forward first\n",
    "        return X_node_1\n",
    "    else:\n",
    "        #return reverse complement first\n",
    "        return X_node_2\n",
    "\n",
    "\n",
    "    #return np.concatenate([X_node_1, X_node_2], axis = 1)\n"
   ]
  },
  {
   "cell_type": "code",
   "execution_count": null,
   "id": "0e3e423a",
   "metadata": {
    "id": "mBgfZbDJvs7H"
   },
   "outputs": [],
   "source": []
  },
  {
   "cell_type": "code",
   "execution_count": 21,
   "id": "211e4f17",
   "metadata": {
    "execution": {
     "iopub.execute_input": "2022-07-26T20:06:00.446545Z",
     "iopub.status.busy": "2022-07-26T20:06:00.446149Z",
     "iopub.status.idle": "2022-07-26T20:06:00.462507Z",
     "shell.execute_reply": "2022-07-26T20:06:00.461968Z"
    },
    "id": "6b22a372"
   },
   "outputs": [],
   "source": [
    "#https://github.com/WenYanger/Keras_Metrics/blob/master/PearsonCorr.py\n",
    "from keras import backend as K\n",
    "def pearson_r(y_true, y_pred):\n",
    "    #print(y_true,y_pred)\n",
    "    x = y_true\n",
    "    y = y_pred\n",
    "    mx = K.mean(x, axis=0)\n",
    "    my = K.mean(y, axis=0)\n",
    "    xm, ym = x - mx, y - my\n",
    "    r_num = K.sum(xm * ym)\n",
    "    x_square_sum = K.sum(xm * xm)\n",
    "    y_square_sum = K.sum(ym * ym)\n",
    "    r_den = K.sqrt(x_square_sum * y_square_sum)\n",
    "    r = r_num / r_den\n",
    "    return K.mean(r)"
   ]
  },
  {
   "cell_type": "code",
   "execution_count": null,
   "id": "b3c04360",
   "metadata": {
    "id": "b788ae9d"
   },
   "outputs": [],
   "source": []
  },
  {
   "cell_type": "code",
   "execution_count": null,
   "id": "12ecd41c",
   "metadata": {
    "id": "8aaed127"
   },
   "outputs": [],
   "source": []
  },
  {
   "cell_type": "code",
   "execution_count": 22,
   "id": "754ea17b",
   "metadata": {
    "execution": {
     "iopub.execute_input": "2022-07-26T20:06:00.465480Z",
     "iopub.status.busy": "2022-07-26T20:06:00.464962Z",
     "iopub.status.idle": "2022-07-26T20:06:00.477035Z",
     "shell.execute_reply": "2022-07-26T20:06:00.476529Z"
    },
    "id": "515b732d"
   },
   "outputs": [],
   "source": [
    "#first time to use a data loader, saving some useful ref\n",
    "\n",
    "#https://datascience.stackexchange.com/questions/47623/how-feed-a-numpy-array-in-batches-in-keras\n",
    "#https://stanford.edu/~shervine/blog/keras-how-to-generate-data-on-the-fly\n",
    "#https://pyimagesearch.com/2018/12/24/how-to-use-keras-fit-and-fit_generator-a-hands-on-tutorial/\n",
    "#https://datascience.stackexchange.com/questions/47623/how-feed-a-numpy-array-in-batches-in-keras\n",
    "#https://medium.com/analytics-vidhya/write-your-own-custom-data-generator-for-tensorflow-keras-1252b64e41c3\n",
    "#https://www.tensorflow.org/api_docs/python/tf/keras/utils/Sequence\n",
    "#https://numpy.org/doc/stable/reference/generated/numpy.array_split.html#numpy.array_split\n",
    "\n",
    "#The dataset loader grabs batches of data from the panda df\n",
    "#It pads sequences and apply one-hot encoding to forward and reverse strand.\n",
    "\n",
    "#The dataset is initialised with the number of batches that it shuld use and\n",
    "#figures out the number of samples in each batch using array_split from numpy\n",
    "\n",
    "from tensorflow.keras.utils import Sequence\n",
    "class DataGenerator(Sequence):\n",
    "    def __init__(self, x_data, num_batches=4500, shuffle=True, target_col='target', random_select='yes'):\n",
    "\n",
    "        self.data = x_data\n",
    "        #store the index of the df in array\n",
    "        self.indexes = np.array(self.data.index.values)\n",
    "        self.num_batches = num_batches\n",
    "        \n",
    "        #array_split distribute the data into the batches\n",
    "        #if the num_batches is not divisible by the length\n",
    "        #of the df, the batches will have sligtly different\n",
    "        #number of items\n",
    "        self.batches = np.array_split(self.indexes, self.num_batches)\n",
    "        \n",
    "\n",
    "        #it is good practice to shuffle the data between epochs\n",
    "        #but you do not want to shuffle for prediction\n",
    "        self.shuffle = shuffle\n",
    "        self.target_col = target_col\n",
    "        self.random_select = random_select\n",
    "    \n",
    "    def __len__(self):\n",
    "        #must be defined as the number\n",
    "        #of batches\n",
    "        return self.num_batches\n",
    "    \n",
    "    def __getitem__(self, idx):\n",
    "        #must be defined to return one batch of data\n",
    "        batch_x = self.data.loc[self.batches[idx],:]\n",
    "\n",
    "        batch_y = batch_x[self.target_col]\n",
    "      \n",
    "        #get_input makes the feature extraction\n",
    "        x_trn = get_input(batch_x, random_select = self.random_select)\n",
    "        return x_trn, batch_y.values\n",
    "    \n",
    "    def on_epoch_end(self):\n",
    "        #shuffle all data every epoch end\n",
    "        if self.shuffle:\n",
    "            np.random.shuffle(self.indexes)\n",
    "            self.batches = np.array_split(self.indexes, self.num_batches)\n",
    "            \n",
    "    def on_epoch_start(self):\n",
    "        #shuffle all data every epoch start\n",
    "        if self.shuffle:\n",
    "            np.random.shuffle(self.indexes)\n",
    "            self.batches = np.array_split(self.indexes, self.num_batches)\n"
   ]
  },
  {
   "cell_type": "code",
   "execution_count": 23,
   "id": "3c4ba1b3",
   "metadata": {
    "execution": {
     "iopub.execute_input": "2022-07-26T20:06:00.479281Z",
     "iopub.status.busy": "2022-07-26T20:06:00.479064Z",
     "iopub.status.idle": "2022-07-26T20:06:00.545362Z",
     "shell.execute_reply": "2022-07-26T20:06:00.544535Z"
    },
    "id": "36f9b731"
   },
   "outputs": [],
   "source": [
    "num_batches=3700\n",
    "train_generator = DataGenerator(X_train, num_batches = num_batches, shuffle=True, random_select=1)\n",
    "test_generator = DataGenerator(X_test, num_batches = 5, random_select=1)\n",
    "predict_generator = DataGenerator(X_predict, num_batches = num_batches, random_select=1) "
   ]
  },
  {
   "cell_type": "code",
   "execution_count": 24,
   "id": "c2ce20ff",
   "metadata": {
    "colab": {
     "base_uri": "https://localhost:8080/"
    },
    "execution": {
     "iopub.execute_input": "2022-07-26T20:06:00.547944Z",
     "iopub.status.busy": "2022-07-26T20:06:00.547707Z",
     "iopub.status.idle": "2022-07-26T20:06:00.552020Z",
     "shell.execute_reply": "2022-07-26T20:06:00.551582Z"
    },
    "id": "0599ae23",
    "outputId": "b906bafa-b939-4600-9393-01af0d9851bd"
   },
   "outputs": [
    {
     "data": {
      "text/plain": [
       "1819"
      ]
     },
     "execution_count": 24,
     "metadata": {},
     "output_type": "execute_result"
    }
   ],
   "source": [
    "len(train_generator.batches[0])"
   ]
  },
  {
   "cell_type": "code",
   "execution_count": 27,
   "id": "562e6aa5",
   "metadata": {
    "colab": {
     "base_uri": "https://localhost:8080/",
     "height": 424
    },
    "execution": {
     "iopub.execute_input": "2022-07-26T20:06:00.576309Z",
     "iopub.status.busy": "2022-07-26T20:06:00.575930Z",
     "iopub.status.idle": "2022-07-26T20:06:00.590862Z",
     "shell.execute_reply": "2022-07-26T20:06:00.590373Z"
    },
    "id": "0c12c84b",
    "outputId": "0e8c2014-6a7b-4b39-923e-8ce9304e5b88"
   },
   "outputs": [
    {
     "data": {
      "text/html": [
       "<div>\n",
       "<style scoped>\n",
       "    .dataframe tbody tr th:only-of-type {\n",
       "        vertical-align: middle;\n",
       "    }\n",
       "\n",
       "    .dataframe tbody tr th {\n",
       "        vertical-align: top;\n",
       "    }\n",
       "\n",
       "    .dataframe thead th {\n",
       "        text-align: right;\n",
       "    }\n",
       "</style>\n",
       "<table border=\"1\" class=\"dataframe\">\n",
       "  <thead>\n",
       "    <tr style=\"text-align: right;\">\n",
       "      <th></th>\n",
       "      <th>seq</th>\n",
       "      <th>target</th>\n",
       "    </tr>\n",
       "  </thead>\n",
       "  <tbody>\n",
       "    <tr>\n",
       "      <th>0</th>\n",
       "      <td>TGCATTTTTTTCACATCTTTCTTTACAGGGAAGTTTGGTTTTTGAA...</td>\n",
       "      <td>0.822882</td>\n",
       "    </tr>\n",
       "    <tr>\n",
       "      <th>1</th>\n",
       "      <td>TGCATTTTTTTCACATCAGGTCCAGCTAGATTAGAAATGTTGTTCT...</td>\n",
       "      <td>0.646765</td>\n",
       "    </tr>\n",
       "    <tr>\n",
       "      <th>2</th>\n",
       "      <td>TGCATTTTTTTCACATCTCTCTTATGTATAAAGACTCGATGATTAG...</td>\n",
       "      <td>0.588059</td>\n",
       "    </tr>\n",
       "    <tr>\n",
       "      <th>3</th>\n",
       "      <td>TGCATTTTTTTCACATCGTCTAGGCTTATTTTCTTGAGTCTATTTG...</td>\n",
       "      <td>0.776059</td>\n",
       "    </tr>\n",
       "    <tr>\n",
       "      <th>4</th>\n",
       "      <td>TGCATTTTTTTCACATCTGGTCAAGCTTCCGATGTCAAATTTTGTG...</td>\n",
       "      <td>0.646765</td>\n",
       "    </tr>\n",
       "    <tr>\n",
       "      <th>...</th>\n",
       "      <td>...</td>\n",
       "      <td>...</td>\n",
       "    </tr>\n",
       "    <tr>\n",
       "      <th>1814</th>\n",
       "      <td>TGCATTTTTTTCACATCGTCAAGTGTGTTCTTCGCCCGGCGGGGAT...</td>\n",
       "      <td>0.881588</td>\n",
       "    </tr>\n",
       "    <tr>\n",
       "      <th>1815</th>\n",
       "      <td>TGCATTTTTTTCACATCGTTCAAGTGTCGGGACTGTCAGATTTAGT...</td>\n",
       "      <td>0.881588</td>\n",
       "    </tr>\n",
       "    <tr>\n",
       "      <th>1816</th>\n",
       "      <td>TGCATTTTTTTCACATCGCAACCTGTTTTTTGTGGGGTTCCCTCGC...</td>\n",
       "      <td>0.588059</td>\n",
       "    </tr>\n",
       "    <tr>\n",
       "      <th>1817</th>\n",
       "      <td>TGCATTTTTTTCACATCGTTTTAAGAGGATTCGAGAAACCACAGAG...</td>\n",
       "      <td>0.759040</td>\n",
       "    </tr>\n",
       "    <tr>\n",
       "      <th>1818</th>\n",
       "      <td>TGCATTTTTTTCACATCCGAGTTAGCAAGTTTTAGGCTCTTATCAG...</td>\n",
       "      <td>0.588059</td>\n",
       "    </tr>\n",
       "  </tbody>\n",
       "</table>\n",
       "<p>1819 rows × 2 columns</p>\n",
       "</div>"
      ],
      "text/plain": [
       "                                                    seq    target\n",
       "0     TGCATTTTTTTCACATCTTTCTTTACAGGGAAGTTTGGTTTTTGAA...  0.822882\n",
       "1     TGCATTTTTTTCACATCAGGTCCAGCTAGATTAGAAATGTTGTTCT...  0.646765\n",
       "2     TGCATTTTTTTCACATCTCTCTTATGTATAAAGACTCGATGATTAG...  0.588059\n",
       "3     TGCATTTTTTTCACATCGTCTAGGCTTATTTTCTTGAGTCTATTTG...  0.776059\n",
       "4     TGCATTTTTTTCACATCTGGTCAAGCTTCCGATGTCAAATTTTGTG...  0.646765\n",
       "...                                                 ...       ...\n",
       "1814  TGCATTTTTTTCACATCGTCAAGTGTGTTCTTCGCCCGGCGGGGAT...  0.881588\n",
       "1815  TGCATTTTTTTCACATCGTTCAAGTGTCGGGACTGTCAGATTTAGT...  0.881588\n",
       "1816  TGCATTTTTTTCACATCGCAACCTGTTTTTTGTGGGGTTCCCTCGC...  0.588059\n",
       "1817  TGCATTTTTTTCACATCGTTTTAAGAGGATTCGAGAAACCACAGAG...  0.759040\n",
       "1818  TGCATTTTTTTCACATCCGAGTTAGCAAGTTTTAGGCTCTTATCAG...  0.588059\n",
       "\n",
       "[1819 rows x 2 columns]"
      ]
     },
     "execution_count": 27,
     "metadata": {},
     "output_type": "execute_result"
    }
   ],
   "source": [
    "X_train.loc[train_generator.batches[0]]"
   ]
  },
  {
   "cell_type": "code",
   "execution_count": 28,
   "id": "f6ded2b3",
   "metadata": {
    "colab": {
     "base_uri": "https://localhost:8080/"
    },
    "execution": {
     "iopub.execute_input": "2022-07-26T20:06:00.592955Z",
     "iopub.status.busy": "2022-07-26T20:06:00.592731Z",
     "iopub.status.idle": "2022-07-26T20:06:00.598398Z",
     "shell.execute_reply": "2022-07-26T20:06:00.597906Z"
    },
    "id": "ZhNS7Cx-cPt4",
    "outputId": "b4938b33-3f4e-489d-d249-dcd50827e2a0"
   },
   "outputs": [
    {
     "data": {
      "text/plain": [
       "array([   0,    1,    2, ..., 1997, 1998, 1999])"
      ]
     },
     "execution_count": 28,
     "metadata": {},
     "output_type": "execute_result"
    }
   ],
   "source": [
    "test_generator.batches[0]"
   ]
  },
  {
   "cell_type": "code",
   "execution_count": 30,
   "id": "e54dc8c6",
   "metadata": {
    "colab": {
     "base_uri": "https://localhost:8080/"
    },
    "execution": {
     "iopub.execute_input": "2022-07-26T20:06:01.072997Z",
     "iopub.status.busy": "2022-07-26T20:06:01.072484Z",
     "iopub.status.idle": "2022-07-26T20:06:01.511101Z",
     "shell.execute_reply": "2022-07-26T20:06:01.510562Z"
    },
    "id": "afa8555b",
    "outputId": "901f740b-d670-4e2e-bd79-b5ab2fd72c76"
   },
   "outputs": [
    {
     "data": {
      "text/plain": [
       "((1819, 142, 12), (1819,))"
      ]
     },
     "execution_count": 30,
     "metadata": {},
     "output_type": "execute_result"
    }
   ],
   "source": [
    "#visualize shape of train gen\n",
    "import warnings\n",
    "warnings.filterwarnings(\"ignore\")\n",
    "t = train_generator[0]\n",
    "t[0].shape,t[1].shape"
   ]
  },
  {
   "cell_type": "code",
   "execution_count": 31,
   "id": "da15b8a9",
   "metadata": {
    "execution": {
     "iopub.execute_input": "2022-07-26T20:06:01.513633Z",
     "iopub.status.busy": "2022-07-26T20:06:01.513157Z",
     "iopub.status.idle": "2022-07-26T20:06:01.517709Z",
     "shell.execute_reply": "2022-07-26T20:06:01.517157Z"
    },
    "id": "8a9e69df"
   },
   "outputs": [],
   "source": [
    "def rmse(y_actual, y_pred):\n",
    "    mse = tf.keras.losses.mean_squared_error(y_actual, y_pred)\n",
    "    return K.sqrt(mse)\n",
    "\n",
    "\n",
    "#a shortcut for a Bidirectional GRU layer\n",
    "def gru_layer(hidden_dim=256, dropout=0.1):\n",
    "    return layers.Bidirectional(layers.GRU(hidden_dim, \n",
    "                                 dropout=dropout, \n",
    "                                 return_sequences=True, \n",
    "                                 kernel_initializer = 'orthogonal',\n",
    "                                 bias_initializer='orthogonal'\n",
    "                                ))"
   ]
  },
  {
   "cell_type": "code",
   "execution_count": null,
   "id": "62ff4391",
   "metadata": {
    "id": "YlX70LmoxB_l"
   },
   "outputs": [],
   "source": []
  },
  {
   "cell_type": "code",
   "execution_count": 32,
   "id": "e621f0fc",
   "metadata": {
    "execution": {
     "iopub.execute_input": "2022-07-26T20:06:01.519962Z",
     "iopub.status.busy": "2022-07-26T20:06:01.519460Z",
     "iopub.status.idle": "2022-07-26T20:06:01.535899Z",
     "shell.execute_reply": "2022-07-26T20:06:01.535371Z"
    },
    "id": "54599fc7"
   },
   "outputs": [],
   "source": [
    "#The actual model\n",
    "#two Bidirectional GRUs followed by CONVs and fully connected \n",
    "\n",
    "def build_model(\n",
    "    input_shape,\n",
    "    gru_hidden_dim=64,\n",
    "    mlp_units=[512, 32],\n",
    "    do_conv=True,    \n",
    "    kernel_size1=6,\n",
    "    kernel_size2=3,\n",
    "    kernel_size3=3,\n",
    "    pool_size1=3,\n",
    "    pool_size2=3,\n",
    "    filters1=256,\n",
    "    filters2=128,\n",
    "    filters3=64):\n",
    "    \n",
    "    inputs = keras.Input(shape=input_shape)\n",
    "    \n",
    "    \n",
    "    x = inputs\n",
    "    \n",
    "    x = gru_layer(hidden_dim=gru_hidden_dim,dropout=0)(x)\n",
    "    x = gru_layer(hidden_dim=gru_hidden_dim,dropout=0)(x)\n",
    "    \n",
    "    if do_conv:\n",
    "        x = layers.Conv1D(filters=filters1, kernel_size=kernel_size1, activation='LeakyReLU')(x)\n",
    "        x = layers.MaxPooling1D(pool_size=pool_size1)(x)\n",
    "        x = layers.Conv1D(filters=filters2, kernel_size=kernel_size2, activation='LeakyReLU')(x)\n",
    "        x = layers.MaxPooling1D(pool_size=pool_size2)(x)\n",
    "        x = layers.Conv1D(filters=filters3, kernel_size=kernel_size3, activation='LeakyReLU')(x)\n",
    "    else:\n",
    "        x = layers.Conv1D(filters=filters1, kernel_size=kernel_size1, activation='LeakyReLU')(x)\n",
    "    \n",
    "    x = layers.Flatten()(x)\n",
    "    \n",
    "    for dim in mlp_units:\n",
    "        x = layers.Dense(dim)(x)\n",
    "        x = layers.BatchNormalization()(x)\n",
    "        x = layers.LeakyReLU()(x)\n",
    "    outputs = layers.Dense(1, activation='sigmoid')(x)\n",
    "    return keras.Model(inputs, outputs)"
   ]
  },
  {
   "cell_type": "code",
   "execution_count": null,
   "id": "cf475b89",
   "metadata": {
    "id": "928ad2cb"
   },
   "outputs": [],
   "source": []
  },
  {
   "cell_type": "code",
   "execution_count": 33,
   "id": "294d7ec0",
   "metadata": {
    "execution": {
     "iopub.execute_input": "2022-07-26T20:06:01.539461Z",
     "iopub.status.busy": "2022-07-26T20:06:01.538787Z",
     "iopub.status.idle": "2022-07-26T20:06:01.550817Z",
     "shell.execute_reply": "2022-07-26T20:06:01.550220Z"
    },
    "id": "2048a8cc"
   },
   "outputs": [],
   "source": [
    "def coeff_det(y_true, y_pred):\n",
    "    SS_res =  K.sum(K.square( y_true-y_pred ))\n",
    "    SS_tot = K.sum(K.square( y_true - K.mean(y_true) ) )\n",
    "    return ( 1 - SS_res/(SS_tot + K.epsilon()) )"
   ]
  },
  {
   "cell_type": "code",
   "execution_count": 34,
   "id": "fedee018",
   "metadata": {
    "execution": {
     "iopub.execute_input": "2022-07-26T20:06:01.553547Z",
     "iopub.status.busy": "2022-07-26T20:06:01.553424Z",
     "iopub.status.idle": "2022-07-26T20:06:01.560553Z",
     "shell.execute_reply": "2022-07-26T20:06:01.560058Z"
    }
   },
   "outputs": [],
   "source": [
    "#11 PearsonR² 0.919 Spearman 0.962 ScorePearsonR² 0.745 ScoreSpearman 0.802\n",
    "config={\n",
    "    'gru_hidden_dim':256,\n",
    "    'mlp_units':[512, 32],\n",
    "    'do_conv': True,    \n",
    "    'kernel_size1':6,\n",
    "    'kernel_size2':3,\n",
    "    'kernel_size3':3,\n",
    "    'pool_size1':3,\n",
    "    'pool_size2':2,\n",
    "    'filters1':256,\n",
    "    'filters2':128,\n",
    "    'filters3':64    \n",
    "    \n",
    " }"
   ]
  },
  {
   "cell_type": "code",
   "execution_count": 35,
   "id": "3ed54eec",
   "metadata": {
    "colab": {
     "base_uri": "https://localhost:8080/"
    },
    "execution": {
     "iopub.execute_input": "2022-07-26T20:06:01.563661Z",
     "iopub.status.busy": "2022-07-26T20:06:01.563190Z",
     "iopub.status.idle": "2022-07-26T20:06:04.253770Z",
     "shell.execute_reply": "2022-07-26T20:06:04.253049Z"
    },
    "id": "1b1f51a2",
    "outputId": "55bf4b22-b448-4ea2-af66-b1a10e0cef25"
   },
   "outputs": [
    {
     "name": "stderr",
     "output_type": "stream",
     "text": [
      "2022-07-26 21:06:02.128339: I tensorflow/core/platform/cpu_feature_guard.cc:151] This TensorFlow binary is optimized with oneAPI Deep Neural Network Library (oneDNN) to use the following CPU instructions in performance-critical operations:  SSE4.1 SSE4.2 AVX AVX2 FMA\n",
      "To enable them in other operations, rebuild TensorFlow with the appropriate compiler flags.\n",
      "2022-07-26 21:06:02.821959: I tensorflow/core/common_runtime/gpu/gpu_device.cc:1525] Created device /job:localhost/replica:0/task:0/device:GPU:0 with 43648 MB memory:  -> device: 0, name: NVIDIA A40, pci bus id: 0000:81:00.0, compute capability: 8.6\n"
     ]
    },
    {
     "name": "stdout",
     "output_type": "stream",
     "text": [
      "Model: \"model\"\n",
      "_________________________________________________________________\n",
      " Layer (type)                Output Shape              Param #   \n",
      "=================================================================\n",
      " input_1 (InputLayer)        [(None, 142, 12)]         0         \n",
      "                                                                 \n",
      " bidirectional (Bidirectiona  (None, 142, 512)         414720    \n",
      " l)                                                              \n",
      "                                                                 \n",
      " bidirectional_1 (Bidirectio  (None, 142, 512)         1182720   \n",
      " nal)                                                            \n",
      "                                                                 \n",
      " conv1d (Conv1D)             (None, 137, 256)          786688    \n",
      "                                                                 \n",
      " max_pooling1d (MaxPooling1D  (None, 45, 256)          0         \n",
      " )                                                               \n",
      "                                                                 \n",
      " conv1d_1 (Conv1D)           (None, 43, 128)           98432     \n",
      "                                                                 \n",
      " max_pooling1d_1 (MaxPooling  (None, 21, 128)          0         \n",
      " 1D)                                                             \n",
      "                                                                 \n",
      " conv1d_2 (Conv1D)           (None, 19, 64)            24640     \n",
      "                                                                 \n",
      " flatten (Flatten)           (None, 1216)              0         \n",
      "                                                                 \n",
      " dense (Dense)               (None, 512)               623104    \n",
      "                                                                 \n",
      " batch_normalization (BatchN  (None, 512)              2048      \n",
      " ormalization)                                                   \n",
      "                                                                 \n",
      " leaky_re_lu_3 (LeakyReLU)   (None, 512)               0         \n",
      "                                                                 \n",
      " dense_1 (Dense)             (None, 32)                16416     \n",
      "                                                                 \n",
      " batch_normalization_1 (Batc  (None, 32)               128       \n",
      " hNormalization)                                                 \n",
      "                                                                 \n",
      " leaky_re_lu_4 (LeakyReLU)   (None, 32)                0         \n",
      "                                                                 \n",
      " dense_2 (Dense)             (None, 1)                 33        \n",
      "                                                                 \n",
      "=================================================================\n",
      "Total params: 3,148,929\n",
      "Trainable params: 3,147,841\n",
      "Non-trainable params: 1,088\n",
      "_________________________________________________________________\n"
     ]
    }
   ],
   "source": [
    "for n in train_generator:\n",
    "    input_shape = n[0].shape[1:]\n",
    "    break\n",
    "\n",
    "model_name = 'sub_model'\n",
    "\n",
    "model = build_model(\n",
    "    input_shape=input_shape,\n",
    "    **config   \n",
    ")\n",
    "mae = tf.keras.losses.MeanAbsoluteError()\n",
    "\n",
    "#binary crossentropy is used with the sigmoid activation on the output layer\n",
    "bc = tf.keras.losses.BinaryCrossentropy()\n",
    "\n",
    "\n",
    "model.compile(\n",
    "    loss=bc, \n",
    "    optimizer=keras.optimizers.Adam(epsilon=1e-6, global_clipnorm=1.0),\n",
    "    metrics=[pearson_r, coeff_det],\n",
    ")\n",
    "model.summary()"
   ]
  },
  {
   "cell_type": "code",
   "execution_count": 37,
   "id": "3b149f75",
   "metadata": {
    "execution": {
     "iopub.execute_input": "2022-07-26T20:06:04.260416Z",
     "iopub.status.busy": "2022-07-26T20:06:04.260043Z",
     "iopub.status.idle": "2022-07-26T20:06:04.329542Z",
     "shell.execute_reply": "2022-07-26T20:06:04.328849Z"
    },
    "id": "d972655d"
   },
   "outputs": [],
   "source": [
    "\n",
    "#set the final number of batches\n",
    "num_batches=6700\n",
    "train_generator = DataGenerator(X_train, num_batches = num_batches, shuffle=True, random_select=1)\n",
    "test_generator = DataGenerator(X_test, num_batches = 5, random_select=1)\n",
    "predict_generator = DataGenerator(X_predict, num_batches = num_batches, random_select=1) "
   ]
  },
  {
   "cell_type": "code",
   "execution_count": null,
   "id": "9afbd3b3",
   "metadata": {},
   "outputs": [],
   "source": []
  },
  {
   "cell_type": "code",
   "execution_count": 38,
   "id": "265b15c8",
   "metadata": {
    "colab": {
     "base_uri": "https://localhost:8080/"
    },
    "execution": {
     "iopub.execute_input": "2022-07-26T20:06:04.332963Z",
     "iopub.status.busy": "2022-07-26T20:06:04.332718Z",
     "iopub.status.idle": "2022-07-27T04:12:06.752023Z",
     "shell.execute_reply": "2022-07-27T04:12:06.751443Z"
    },
    "id": "fb77caaa",
    "outputId": "c0627b2f-d841-4691-d2a4-f9af60165e69"
   },
   "outputs": [
    {
     "name": "stderr",
     "output_type": "stream",
     "text": [
      "2022-07-26 21:06:10.836246: I tensorflow/stream_executor/cuda/cuda_dnn.cc:366] Loaded cuDNN version 8201\n",
      "2022-07-26 21:06:15.378784: I tensorflow/stream_executor/cuda/cuda_blas.cc:1774] TensorFloat-32 will be used for the matrix multiplication. This will only be logged once.\n"
     ]
    },
    {
     "name": "stdout",
     "output_type": "stream",
     "text": [
      "6700/6700 [==============================] - 2629s 391ms/step - loss: 0.6240 - pearson_r: 0.6794 - coeff_det: 0.4536 - val_loss: 0.6200 - val_pearson_r: 0.7153 - val_coeff_det: 0.5093\n",
      "6700/6700 [==============================] - 2662s 397ms/step - loss: 0.6207 - pearson_r: 0.7259 - coeff_det: 0.5252 - val_loss: 0.6183 - val_pearson_r: 0.7391 - val_coeff_det: 0.5451\n",
      "6700/6700 [==============================] - 2659s 397ms/step - loss: 0.6198 - pearson_r: 0.7398 - coeff_det: 0.5456 - val_loss: 0.6202 - val_pearson_r: 0.7452 - val_coeff_det: 0.5056\n",
      "6700/6700 [==============================] - 2649s 395ms/step - loss: 0.6194 - pearson_r: 0.7451 - coeff_det: 0.5535 - val_loss: 0.6175 - val_pearson_r: 0.7509 - val_coeff_det: 0.5632\n",
      "6700/6700 [==============================] - 2651s 395ms/step - loss: 0.6192 - pearson_r: 0.7488 - coeff_det: 0.5591 - val_loss: 0.6172 - val_pearson_r: 0.7552 - val_coeff_det: 0.5695\n",
      "6700/6700 [==============================] - 2657s 396ms/step - loss: 0.6190 - pearson_r: 0.7518 - coeff_det: 0.5635 - val_loss: 0.6170 - val_pearson_r: 0.7594 - val_coeff_det: 0.5748\n",
      "6700/6700 [==============================] - 2642s 394ms/step - loss: 0.6188 - pearson_r: 0.7544 - coeff_det: 0.5676 - val_loss: 0.6177 - val_pearson_r: 0.7611 - val_coeff_det: 0.5583\n",
      "6700/6700 [==============================] - 2651s 395ms/step - loss: 0.6186 - pearson_r: 0.7570 - coeff_det: 0.5714 - val_loss: 0.6176 - val_pearson_r: 0.7636 - val_coeff_det: 0.5616\n",
      "6700/6700 [==============================] - 2642s 394ms/step - loss: 0.6184 - pearson_r: 0.7592 - coeff_det: 0.5748 - val_loss: 0.6165 - val_pearson_r: 0.7657 - val_coeff_det: 0.5837\n",
      "6700/6700 [==============================] - 2648s 395ms/step - loss: 0.6183 - pearson_r: 0.7614 - coeff_det: 0.5782 - val_loss: 0.6171 - val_pearson_r: 0.7718 - val_coeff_det: 0.5705\n",
      "6700/6700 [==============================] - 2655s 396ms/step - loss: 0.6181 - pearson_r: 0.7634 - coeff_det: 0.5812 - val_loss: 0.6164 - val_pearson_r: 0.7698 - val_coeff_det: 0.5876\n"
     ]
    }
   ],
   "source": [
    "#this code train one epoch at time and save the weights\n",
    "#the EarlyStopping and TerminateOnNaN are not necessary\n",
    "#but still here for hystorical reasons\n",
    "verbosity = 1\n",
    "for epoch in range(1, 12):\n",
    "    \n",
    "    callbacks=[\n",
    "        \n",
    "                #tf.keras.callbacks.ReduceLROnPlateau(),\n",
    "                #tf.keras.callbacks.ReduceLROnPlateau(patience = 3, factor = 0.25, min_lr = 1e-06,\n",
    "                #                                     verbose = 1, monitor='val_pearson_r',mode='max'),\n",
    "                tf.keras.callbacks.EarlyStopping(patience = 3, restore_best_weights = True,  \n",
    "                                                 monitor='val_pearson_r', mode='max'),\n",
    "                tf.keras.callbacks.ModelCheckpoint(model_name+'.{epoch}.h5'.format(epoch=epoch), save_best_only=True,\n",
    "                                                   mode='max', monitor='val_pearson_r'),\n",
    "                tf.keras.callbacks.TerminateOnNaN()]\n",
    "    \n",
    "    if epoch >1:\n",
    "        model = tf.keras.models.load_model(model_name+'.{epoch}.h5'.format(epoch=epoch-1), custom_objects={'rmse': rmse,'pearson_r':pearson_r,'coeff_det':coeff_det})\n",
    "\n",
    "    model.fit(train_generator, validation_data=test_generator, epochs=1, verbose=verbosity, callbacks=callbacks)\n"
   ]
  },
  {
   "cell_type": "code",
   "execution_count": 39,
   "id": "e55899b6",
   "metadata": {
    "execution": {
     "iopub.execute_input": "2022-07-27T04:12:06.755634Z",
     "iopub.status.busy": "2022-07-27T04:12:06.755275Z",
     "iopub.status.idle": "2022-07-27T04:13:59.792686Z",
     "shell.execute_reply": "2022-07-27T04:13:59.791641Z"
    }
   },
   "outputs": [
    {
     "name": "stdout",
     "output_type": "stream",
     "text": [
      "make prediction using:  sub_model.11.h5\n",
      "shape: (71103, 1) (71103, 2)\n",
      "                                                 seq     preds\n",
      "0  TGCATTTTTTTCACATCAAAAAAAAAAAAAAAAAAAAAAACTAGCA...  0.708024\n",
      "1  TGCATTTTTTTCACATCAAAAAAAAAAAAAAAAAAAGAAAACGAGC...  0.709611\n",
      "2  TGCATTTTTTTCACATCAAAAAAAAAAAAAAAAAAAGAAAACGAGC...  0.699942\n",
      "3  TGCATTTTTTTCACATCAAAAAAAAAAAAAAAAAAAGAAAACGAGC...  0.692968\n",
      "4  TGCATTTTTTTCACATCAAAAAAAAAAAAAAAAAAAGAAAACGAGC...  0.742253\n",
      "done\n"
     ]
    },
    {
     "data": {
      "image/png": "[encoded data removed]",
      "text/plain": [
       "<Figure size 432x288 with 1 Axes>"
      ]
     },
     "metadata": {
      "needs_background": "light"
     },
     "output_type": "display_data"
    }
   ],
   "source": [
    "#this code loads a model and create predictions\n",
    "#it also transfor the predictions into the \n",
    "#format for submission.\n",
    "\n",
    "import json\n",
    "import numpy as np\n",
    "import pandas as pd\n",
    "from collections import OrderedDict\n",
    "\n",
    "def make_prediction(model_id, model_name, is_class = False):\n",
    "    print('make prediction using: ', model_name+'.{model_id}.h5'.format(model_id=model_id))\n",
    "    model = tf.keras.models.load_model(\n",
    "        model_name+'.{model_id}.h5'.format(model_id=model_id),custom_objects={\n",
    "    'rmse': rmse,'pearson_r':pearson_r,'coeff_det':coeff_det})\n",
    "    predict_generator_1 = DataGenerator(X_predict, num_batches = 10000, random_select=1, shuffle=False) \n",
    "    out_1 = model.predict(predict_generator_1)\n",
    "    print('shape:', out_1.shape, X_predict.shape)\n",
    "    if is_class:\n",
    "        #trained a classification once, then dropped the idea\n",
    "        X_predict['preds_1'] = np.argmax(out_1,axis=1).squeeze()\n",
    "    else:\n",
    "        X_predict['preds_1'] = out_1.max(axis=1).squeeze()\n",
    "    X_predict['preds_1'].plot(kind='hist',bins=50)\n",
    "    X_predict['preds']=X_predict['preds_1']\n",
    "    \n",
    "    X_predict[['seq','preds']].to_csv(\n",
    "        model_name+'.{model_id}.csv'.format(model_id=model_id),\n",
    "        header=False,index=False,sep='\\t') \n",
    "    \n",
    "    with open('sample_submission.json', 'r') as f:\n",
    "        ground=json.load(f)\n",
    "    indices=np.array([int(indice) for indice in list(ground.keys())])\n",
    "\n",
    "    df_pred = pd.read_csv(model_name+'.{model_id}.csv'.format(model_id=model_id), sep='\\t',header=None)\n",
    "    df_pred.columns = ['seq','preds']\n",
    "\n",
    "    Y_pred=df_pred.preds.values\n",
    "    print(df_pred.head())\n",
    "    PRED_DATA = OrderedDict()\n",
    "    for i in indices:\n",
    "        PRED_DATA[str(i)]= float(Y_pred[i])\n",
    "\n",
    "    def dump(pred_dict, pred_file):\n",
    "        with open(pred_file, 'w') as f:\n",
    "            json.dump(pred_dict, f)\n",
    "    dump(PRED_DATA,model_name+'.{model_id}.csv.json'.format(model_id=model_id)) \n",
    "    print('done')\n",
    "    \n",
    "#select the epoch and predict\n",
    "make_prediction(11, model_name=model_name)"
   ]
  },
  {
   "cell_type": "code",
   "execution_count": 41,
   "id": "225023cc",
   "metadata": {
    "execution": {
     "iopub.execute_input": "2022-07-27T04:13:59.801224Z",
     "iopub.status.busy": "2022-07-27T04:13:59.801096Z",
     "iopub.status.idle": "2022-07-27T04:13:59.811060Z",
     "shell.execute_reply": "2022-07-27T04:13:59.810599Z"
    }
   },
   "outputs": [],
   "source": [
    "#outs from leaderbord \n",
    "#11 PearsonR² 0.919 Spearman 0.962 ScorePearsonR² 0.745 ScoreSpearman 0.802 *\n",
    "#10 PearsonR² 0.911 Spearman 0.960 ScorePearsonR² 0.729 ScoreSpearman 0.792"
   ]
  },
  {
   "cell_type": "code",
   "execution_count": 42,
   "id": "88f6fa20",
   "metadata": {
    "execution": {
     "iopub.execute_input": "2022-07-27T04:13:59.814718Z",
     "iopub.status.busy": "2022-07-27T04:13:59.814366Z",
     "iopub.status.idle": "2022-07-27T04:13:59.826137Z",
     "shell.execute_reply": "2022-07-27T04:13:59.825172Z"
    }
   },
   "outputs": [
    {
     "name": "stdout",
     "output_type": "stream",
     "text": [
      "tqdm==4.64.0\n",
      "matplotlib==3.5.1\n",
      "tensorflow==2.7.0\n",
      "keras==2.7.0\n",
      "biopython==1.79\n",
      "numpy==1.22.3\n",
      "pandas==1.4.2\n",
      "joblib==1.1.0\n",
      "scikit-learn==1.0.2\n",
      "tensorflow-addons==0.16.1\n"
     ]
    }
   ],
   "source": [
    "#using this code to save the version of the used packages\n",
    "#https://stackoverflow.com/questions/40428931/package-for-listing-version-of-packages-used-in-a-jupyter-notebook\n",
    "import pkg_resources\n",
    "import types\n",
    "def get_imports():\n",
    "    for name, val in globals().items():\n",
    "        #print(name)\n",
    "        if isinstance(val, types.ModuleType):\n",
    "            # Split ensures you get root package, \n",
    "            # not just imported function\n",
    "            name = val.__name__.split(\".\")[0]\n",
    "\n",
    "        elif isinstance(val, type):\n",
    "            name = val.__module__.split(\".\")[0]\n",
    "\n",
    "        # Some packages are weird and have different\n",
    "        # imported names vs. system/pip names. Unfortunately,\n",
    "        # there is no systematic way to get pip names from\n",
    "        # a package's imported name. You'll have to add\n",
    "        # exceptions to this list manually!\n",
    "        poorly_named_packages = {\n",
    "            \"PIL\":     \"Pillow\",\n",
    "            \"sklearn\": \"scikit-learn\",\n",
    "            \"Bio\":     \"biopython\",\n",
    "            \"tensorflow_addons\":\"tensorflow-addons\"\n",
    "        }\n",
    "        if name in poorly_named_packages.keys():\n",
    "            name = poorly_named_packages[name]\n",
    "\n",
    "        yield name\n",
    "imports = list(set(get_imports()))\n",
    "\n",
    "# The only way I found to get the version of the root package\n",
    "# from only the name of the package is to cross-check the names \n",
    "# of installed packages vs. imported packages\n",
    "requirements = []\n",
    "for m in pkg_resources.working_set:\n",
    "    if m.project_name in imports and m.project_name!=\"pip\":\n",
    "        requirements.append((m.project_name, m.version))\n",
    "\n",
    "for r in requirements:\n",
    "    print(\"{}=={}\".format(*r))"
   ]
  },
  {
   "cell_type": "code",
   "execution_count": 44,
   "id": "6464178d",
   "metadata": {
    "execution": {
     "iopub.execute_input": "2022-07-27T04:13:59.841130Z",
     "iopub.status.busy": "2022-07-27T04:13:59.840867Z",
     "iopub.status.idle": "2022-07-27T04:13:59.851698Z",
     "shell.execute_reply": "2022-07-27T04:13:59.851209Z"
    }
   },
   "outputs": [
    {
     "name": "stdout",
     "output_type": "stream",
     "text": [
      "/homes/mtinti/miniconda3/envs/proteinBert2/bin/python\n",
      "3.10.4 | packaged by conda-forge | (main, Mar 24 2022, 17:38:57) [GCC 10.3.0]\n",
      "sys.version_info(major=3, minor=10, micro=4, releaselevel='final', serial=0)\n"
     ]
    }
   ],
   "source": [
    "import sys\n",
    "print(sys.executable)\n",
    "print(sys.version)\n",
    "print(sys.version_info)"
   ]
  }
 ],
 "metadata": {
  "accelerator": "GPU",
  "colab": {
   "collapsed_sections": [],
   "machine_shape": "hm",
   "name": "pandas_final_1_bis(4).ipynb",
   "provenance": []
  },
  "gpuClass": "standard",
  "kernelspec": {
   "display_name": "conda-env-miniconda3-proteinBert2-py",
   "language": "python",
   "name": "proteinbert2"
  },
  "language_info": {
   "codemirror_mode": {
    "name": "ipython",
    "version": 3
   },
   "file_extension": ".py",
   "mimetype": "text/x-python",
   "name": "python",
   "nbconvert_exporter": "python",
   "pygments_lexer": "ipython3",
   "version": "3.10.4"
  },
  "toc": {
   "base_numbering": 1,
   "nav_menu": {},
   "number_sections": true,
   "sideBar": true,
   "skip_h1_title": false,
   "title_cell": "Table of Contents",
   "title_sidebar": "Contents",
   "toc_cell": false,
   "toc_position": {},
   "toc_section_display": true,
   "toc_window_display": false
  }
 },
 "nbformat": 4,
 "nbformat_minor": 5
}
